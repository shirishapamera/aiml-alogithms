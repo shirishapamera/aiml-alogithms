{
  "nbformat": 4,
  "nbformat_minor": 0,
  "metadata": {
    "colab": {
      "provenance": []
    },
    "kernelspec": {
      "name": "python3",
      "display_name": "Python 3"
    },
    "language_info": {
      "name": "python"
    }
  },
  "cells": [
    {
      "cell_type": "code",
      "execution_count": 128,
      "metadata": {
        "colab": {
          "base_uri": "https://localhost:8080/"
        },
        "id": "gIggLaDkdcNe",
        "outputId": "738241f3-06c4-4e58-e1c7-7bba81e57504"
      },
      "outputs": [
        {
          "output_type": "stream",
          "name": "stdout",
          "text": [
            "        UDI Product ID Type  Air_ temperature[K]  Process_temperature[K]  \\\n",
            "0         1     M14860    M                298.1                   308.6   \n",
            "1         2     L47181    L                298.2                   308.7   \n",
            "2         3     L47182    L                298.1                   308.5   \n",
            "3         4     L47183    L                298.2                   308.6   \n",
            "4         5     L47184    L                298.2                   308.7   \n",
            "...     ...        ...  ...                  ...                     ...   \n",
            "9995   9996     M24855    M                298.8                   308.4   \n",
            "9996   9997     H39410    H                298.9                   308.4   \n",
            "9997   9998     M24857    M                299.0                   308.6   \n",
            "9998   9999     H39412    H                299.0                   308.7   \n",
            "9999  10000     M24859    M                299.0                   308.7   \n",
            "\n",
            "      Rotational_speed[rpm]  Torque[Nm]  Tool_wear[min]  Target Failure_Type  \n",
            "0                      1551        42.8               0       0   No Failure  \n",
            "1                      1408        46.3               3       0   No Failure  \n",
            "2                      1498        49.4               5       0   No Failure  \n",
            "3                      1433        39.5               7       0   No Failure  \n",
            "4                      1408        40.0               9       0   No Failure  \n",
            "...                     ...         ...             ...     ...          ...  \n",
            "9995                   1604        29.5              14       0   No Failure  \n",
            "9996                   1632        31.8              17       0   No Failure  \n",
            "9997                   1645        33.4              22       0   No Failure  \n",
            "9998                   1408        48.5              25       0   No Failure  \n",
            "9999                   1500        40.2              30       0   No Failure  \n",
            "\n",
            "[10000 rows x 10 columns]\n"
          ]
        }
      ],
      "source": [
        "\n",
        "import pandas as pd\n",
        "d=pd.read_csv('/content/drive/MyDrive/aiml dataset.csv')\n",
        "print(d)"
      ]
    },
    {
      "cell_type": "code",
      "source": [
        "x=d.iloc[:,3:8]\n",
        "y=d.iloc[:,8:9]\n"
      ],
      "metadata": {
        "id": "bE7KS0Xd8uli"
      },
      "execution_count": 129,
      "outputs": []
    },
    {
      "cell_type": "code",
      "source": [
        "from imblearn.over_sampling import SMOTE"
      ],
      "metadata": {
        "id": "NUQa1OsmEM8v"
      },
      "execution_count": null,
      "outputs": []
    },
    {
      "cell_type": "code",
      "source": [
        "sm = SMOTE(random_state = 80)\n",
        "x_resem, y_resem = sm.fit_resample(x,y)"
      ],
      "metadata": {
        "id": "J08JGk55Ea_l"
      },
      "execution_count": null,
      "outputs": []
    },
    {
      "cell_type": "code",
      "source": [],
      "metadata": {
        "id": "2hoWKiRCFPSG"
      },
      "execution_count": null,
      "outputs": []
    },
    {
      "cell_type": "code",
      "source": [
        "print(x_resem.shape,y_resem.shape)"
      ],
      "metadata": {
        "id": "11HnVd0W9zTi"
      },
      "execution_count": null,
      "outputs": []
    },
    {
      "cell_type": "code",
      "source": [
        "from sklearn.model_selection import train_test_split"
      ],
      "metadata": {
        "id": "dajRiP7n-PRq"
      },
      "execution_count": null,
      "outputs": []
    },
    {
      "cell_type": "code",
      "source": [
        "print(x_resem.shape)\n",
        "x_resem_train,x_resem_test,y_resem_train,y_resem_test=train_test_split(x_resem,y_resem,random_state=True,test_size=0.30)"
      ],
      "metadata": {
        "id": "IPPCyHQD-k-w"
      },
      "execution_count": null,
      "outputs": []
    },
    {
      "cell_type": "code",
      "source": [
        "from sklearn.linear_model import LogisticRegression"
      ],
      "metadata": {
        "id": "X2AqdY9wAIIR"
      },
      "execution_count": null,
      "outputs": []
    },
    {
      "cell_type": "code",
      "source": [
        "lr=LogisticRegression()"
      ],
      "metadata": {
        "id": "LG3OmAFlHtR6"
      },
      "execution_count": null,
      "outputs": []
    },
    {
      "cell_type": "code",
      "source": [
        "mm=lr.fit(x_resem_train,y_resem_train)"
      ],
      "metadata": {
        "id": "a2XqSuwoHwTt"
      },
      "execution_count": null,
      "outputs": []
    },
    {
      "cell_type": "code",
      "source": [
        "yp=mm.predict(x_resem_test)"
      ],
      "metadata": {
        "id": "-wHLpsEdH1hg"
      },
      "execution_count": null,
      "outputs": []
    },
    {
      "cell_type": "code",
      "source": [
        "print(yp)"
      ],
      "metadata": {
        "id": "J1EkmmdCH6tY"
      },
      "execution_count": null,
      "outputs": []
    },
    {
      "cell_type": "code",
      "source": [
        "from sklearn.metrics import accuracy_score\n",
        "print(accuracy_score(yp,y_resem_test))"
      ],
      "metadata": {
        "id": "n_c3f_2AH8kB"
      },
      "execution_count": null,
      "outputs": []
    },
    {
      "cell_type": "code",
      "source": [
        "from sklearn import metrics"
      ],
      "metadata": {
        "id": "BQdpgSx9AUZl"
      },
      "execution_count": null,
      "outputs": []
    },
    {
      "cell_type": "code",
      "source": [
        "confusion_matrix=metrics.confusion_matrix(y_resem_test,yp)"
      ],
      "metadata": {
        "id": "ryOnDkxRAcHx"
      },
      "execution_count": null,
      "outputs": []
    },
    {
      "cell_type": "code",
      "source": [
        "cm_display=metrics.ConfusionMatrixDisplay(confusion_matrix=confusion_matrix,display_labels=[False,True])"
      ],
      "metadata": {
        "id": "rb1RWvwyAgyY"
      },
      "execution_count": null,
      "outputs": []
    },
    {
      "cell_type": "code",
      "source": [
        "import matplotlib.pyplot as plt"
      ],
      "metadata": {
        "id": "fo9WT3KmBct5"
      },
      "execution_count": null,
      "outputs": []
    },
    {
      "cell_type": "code",
      "source": [
        "cm_display.plot()\n",
        "plt.show()"
      ],
      "metadata": {
        "id": "CB1zyKPtBiGg"
      },
      "execution_count": null,
      "outputs": []
    },
    {
      "cell_type": "code",
      "source": [
        "from sklearn.tree import DecisionTreeClassifier"
      ],
      "metadata": {
        "id": "WrWoFufnIOBg"
      },
      "execution_count": null,
      "outputs": []
    },
    {
      "cell_type": "code",
      "source": [
        "classifier=DecisionTreeClassifier(criterion='entropy',random_state=0)\n",
        "mm=classifier.fit(x_resem_train,y_resem_train)"
      ],
      "metadata": {
        "id": "O4dQwWHQ_Wx3"
      },
      "execution_count": null,
      "outputs": []
    },
    {
      "cell_type": "code",
      "source": [
        "yp=mm.predict(x_resem_test)"
      ],
      "metadata": {
        "id": "OvSVsJtJ_ccC"
      },
      "execution_count": null,
      "outputs": []
    },
    {
      "cell_type": "code",
      "source": [
        "print(yp)"
      ],
      "metadata": {
        "id": "uQiC7wi_AJlt"
      },
      "execution_count": null,
      "outputs": []
    },
    {
      "cell_type": "code",
      "source": [
        "from sklearn.metrics import accuracy_score\n",
        "print(accuracy_score(yp,y_resem_test))"
      ],
      "metadata": {
        "id": "Hfo9SzFTAKdK"
      },
      "execution_count": null,
      "outputs": []
    },
    {
      "cell_type": "code",
      "source": [
        "confusion_matrix=metrics.confusion_matrix(y_resem_test,yp)"
      ],
      "metadata": {
        "id": "tBHbPn2lANpX"
      },
      "execution_count": null,
      "outputs": []
    },
    {
      "cell_type": "code",
      "source": [
        "cm_display=metrics.ConfusionMatrixDisplay(confusion_matrix=confusion_matrix,display_labels=[False,True])"
      ],
      "metadata": {
        "id": "yI6yUmipB0uM"
      },
      "execution_count": null,
      "outputs": []
    },
    {
      "cell_type": "code",
      "source": [
        "import matplotlib.pyplot as plt"
      ],
      "metadata": {
        "id": "bpLjhLHpB69Q"
      },
      "execution_count": null,
      "outputs": []
    },
    {
      "cell_type": "code",
      "source": [
        "cm_display.plot()\n",
        "plt.show()"
      ],
      "metadata": {
        "id": "5eW68QWIB9y2"
      },
      "execution_count": null,
      "outputs": []
    },
    {
      "cell_type": "code",
      "source": [
        "from sklearn.neighbors import KNeighborsClassifier\n",
        "classifier=KNeighborsClassifier(n_neighbors=5,metric='minkowski',p=2)\n",
        "classifier.fit(x_resem_train,y_resem_train)"
      ],
      "metadata": {
        "id": "cRjQ6pBkCAYg"
      },
      "execution_count": null,
      "outputs": []
    },
    {
      "cell_type": "code",
      "source": [
        "\n",
        "yp=classifier.predict(x_resem_test)"
      ],
      "metadata": {
        "id": "CqNBf3csCRiA"
      },
      "execution_count": null,
      "outputs": []
    },
    {
      "cell_type": "code",
      "source": [
        "print(yp)"
      ],
      "metadata": {
        "id": "-EjRCzDKCYf5"
      },
      "execution_count": null,
      "outputs": []
    },
    {
      "cell_type": "code",
      "source": [
        "from sklearn.metrics import accuracy_score\n",
        "print(accuracy_score(yp,y_resem_test))"
      ],
      "metadata": {
        "id": "x6hRrRsNCcQS"
      },
      "execution_count": null,
      "outputs": []
    },
    {
      "cell_type": "code",
      "source": [
        "confusion_matrix=metrics.confusion_matrix(y_resem_test,yp)"
      ],
      "metadata": {
        "id": "k4kG03KUCfGu"
      },
      "execution_count": null,
      "outputs": []
    },
    {
      "cell_type": "code",
      "source": [
        "cm_display=metrics.ConfusionMatrixDisplay(confusion_matrix=confusion_matrix,display_labels=[False,True])"
      ],
      "metadata": {
        "id": "sSuoP8cWCpaA"
      },
      "execution_count": null,
      "outputs": []
    },
    {
      "cell_type": "code",
      "source": [
        "import matplotlib.pyplot as plt"
      ],
      "metadata": {
        "id": "qFCPWIbGCsvd"
      },
      "execution_count": null,
      "outputs": []
    },
    {
      "cell_type": "code",
      "source": [
        "cm_display.plot()\n",
        "plt.show()"
      ],
      "metadata": {
        "id": "DP3dtHENCviy"
      },
      "execution_count": null,
      "outputs": []
    },
    {
      "cell_type": "code",
      "source": [
        "from sklearn.naive_bayes import GaussianNB\n",
        "gnb=GaussianNB()\n",
        "gnb.fit(x_resem_train,y_resem_train)"
      ],
      "metadata": {
        "id": "-L_l3kppCyV7"
      },
      "execution_count": null,
      "outputs": []
    },
    {
      "cell_type": "code",
      "source": [
        "yp=gnb.predict(x_resem_test)"
      ],
      "metadata": {
        "id": "zz7cn2YyC5Dc"
      },
      "execution_count": null,
      "outputs": []
    },
    {
      "cell_type": "code",
      "source": [
        "print(yp)"
      ],
      "metadata": {
        "id": "SlqdvpKaC8AF"
      },
      "execution_count": null,
      "outputs": []
    },
    {
      "cell_type": "code",
      "source": [
        "from sklearn.metrics import accuracy_score\n",
        "print(accuracy_score(yp,y_resem_test))"
      ],
      "metadata": {
        "id": "0uo8jX-5DAY5"
      },
      "execution_count": null,
      "outputs": []
    },
    {
      "cell_type": "code",
      "source": [
        "confusion_matrix=metrics.confusion_matrix(y_resem_test,yp)"
      ],
      "metadata": {
        "id": "OyiGs_RHDROO"
      },
      "execution_count": null,
      "outputs": []
    },
    {
      "cell_type": "code",
      "source": [
        "cm_display=metrics.ConfusionMatrixDisplay(confusion_matrix=confusion_matrix,display_labels=[False,True])"
      ],
      "metadata": {
        "id": "pEtEFqNKDalV"
      },
      "execution_count": null,
      "outputs": []
    },
    {
      "cell_type": "code",
      "source": [
        "import matplotlib.pyplot as plt"
      ],
      "metadata": {
        "id": "fNg0GVMfDbRP"
      },
      "execution_count": null,
      "outputs": []
    },
    {
      "cell_type": "code",
      "source": [
        "cm_display.plot()\n",
        "plt.show()"
      ],
      "metadata": {
        "colab": {
          "base_uri": "https://localhost:8080/",
          "height": 449
        },
        "id": "A0aO3Ry9DeuF",
        "outputId": "0c716615-c280-49ce-c6cf-95a519950491"
      },
      "execution_count": 130,
      "outputs": [
        {
          "output_type": "display_data",
          "data": {
            "text/plain": [
              "<Figure size 640x480 with 2 Axes>"
            ],
            "image/png": "[encoded data removed]"
          },
          "metadata": {}
        }
      ]
    },
    {
      "cell_type": "code",
      "source": [
        "from sklearn.svm import SVC"
      ],
      "metadata": {
        "id": "mTL10FyvDhkN"
      },
      "execution_count": 131,
      "outputs": []
    },
    {
      "cell_type": "code",
      "source": [
        "svm_model=SVC(kernel='linear')"
      ],
      "metadata": {
        "id": "kPoMDSQWDmPl"
      },
      "execution_count": 132,
      "outputs": []
    },
    {
      "cell_type": "code",
      "source": [
        "svm_model.fit(x_resem_train,y_resem_train)"
      ],
      "metadata": {
        "colab": {
          "base_uri": "https://localhost:8080/"
        },
        "id": "PYoFWBz-Dpht",
        "outputId": "96e55d6d-584a-46d0-9b44-fa4cbfa93aeb"
      },
      "execution_count": null,
      "outputs": [
        {
          "metadata": {
            "tags": null
          },
          "name": "stderr",
          "output_type": "stream",
          "text": [
            "/usr/local/lib/python3.9/dist-packages/sklearn/utils/validation.py:1143: DataConversionWarning: A column-vector y was passed when a 1d array was expected. Please change the shape of y to (n_samples, ), for example using ravel().\n",
            "  y = column_or_1d(y, warn=True)\n"
          ]
        }
      ]
    },
    {
      "cell_type": "code",
      "source": [
        "yp=svm_model.predict(x_resem_test)"
      ],
      "metadata": {
        "id": "egqk8NcaDssT"
      },
      "execution_count": null,
      "outputs": []
    },
    {
      "cell_type": "code",
      "source": [
        "print(yp)"
      ],
      "metadata": {
        "id": "x5edqbdHDv0e"
      },
      "execution_count": null,
      "outputs": []
    },
    {
      "cell_type": "code",
      "source": [
        "accuracy=accuracy_score(yp,y_resem_test)"
      ],
      "metadata": {
        "id": "V37QVPy4DyQo"
      },
      "execution_count": null,
      "outputs": []
    },
    {
      "cell_type": "code",
      "source": [
        "print(accuracy)"
      ],
      "metadata": {
        "id": "2z-uhJbrD09-"
      },
      "execution_count": null,
      "outputs": []
    },
    {
      "cell_type": "code",
      "source": [
        "confusion_matrix=metrics.confusion_matrix(y_resem_test,yp)"
      ],
      "metadata": {
        "id": "q9wJeXIyD9cR"
      },
      "execution_count": null,
      "outputs": []
    },
    {
      "cell_type": "code",
      "source": [
        "cm_display=metrics.ConfusionMatrixDisplay(confusion_matrix=confusion_matrix,display_labels=[False,True])"
      ],
      "metadata": {
        "id": "jigQT5tgEADs"
      },
      "execution_count": null,
      "outputs": []
    },
    {
      "cell_type": "code",
      "source": [
        "import matplotlib.pyplot as plt"
      ],
      "metadata": {
        "id": "YrkgHufOECqt"
      },
      "execution_count": null,
      "outputs": []
    },
    {
      "cell_type": "code",
      "source": [
        "cm_display.plot()\n",
        "plt.show()"
      ],
      "metadata": {
        "id": "o-zlpp2MEFJG"
      },
      "execution_count": null,
      "outputs": []
    },
    {
      "cell_type": "code",
      "source": [],
      "metadata": {
        "id": "267DWQQ4EHoB"
      },
      "execution_count": null,
      "outputs": []
    }
  ]
}